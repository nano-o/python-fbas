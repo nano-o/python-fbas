{
 "cells": [
  {
   "cell_type": "code",
   "execution_count": 19,
   "metadata": {},
   "outputs": [],
   "source": [
    "import json\n",
    "from pathlib import Path\n",
    "import networkx as nx\n",
    "import matplotlib.pyplot as plt\n",
    "from python_fbas.fbas_graph import *"
   ]
  },
  {
   "cell_type": "markdown",
   "metadata": {},
   "source": [
    "# Using PageRank to identify the top tier"
   ]
  },
  {
   "cell_type": "code",
   "execution_count": 25,
   "metadata": {},
   "outputs": [],
   "source": [
    "# load the top-tier FBAS:\n",
    "notebook_dir = Path().resolve()\n",
    "f = notebook_dir / \"data/top_tier.json\"\n",
    "# load file as json:\n",
    "with open(f, \"r\") as file:\n",
    "    data = json.load(file)\n",
    "fbas = FBASGraph.from_json(data, from_stellarbeat=True)\n",
    "\n"
   ]
  },
  {
   "cell_type": "code",
   "execution_count": 35,
   "metadata": {},
   "outputs": [
    {
     "data": {
      "application/vnd.plotly.v1+json": {
       "config": {
        "plotlyServerURL": "https://plot.ly"
       },
       "data": [
        {
         "hoverinfo": "text",
         "line": {
          "color": "gray",
          "width": 1
         },
         "marker": {
          "angleref": "previous",
          "size": 20,
          "symbol": "arrow"
         },
         "mode": "lines+markers",
         "text": [
          "GD6SZQV3WEJUH352NTVLKEV2JM2RH266VPEM7EH5QLLI7ZZAALMLNUVN → _q8",
          "GAAV2GCVFLNN522ORUYFV33E76VPC22E72S75AQ6MBR5V45Z5DWVPWEU → _q8",
          "GAVXB7SBJRYHSG6KSQHY74N7JAFRL4PFVZCNWW2ARI6ZEKNBJSMSKW7C → _q8",
          "GAYXZ4PZ7P6QOX7EBHPIZXNWY4KCOBYWJCA4WKWRKC7XIUS3UJPT6EZ4 → _q8",
          "_q1 → GAVXB7SBJRYHSG6KSQHY74N7JAFRL4PFVZCNWW2ARI6ZEKNBJSMSKW7C",
          "_q1 → GAAV2GCVFLNN522ORUYFV33E76VPC22E72S75AQ6MBR5V45Z5DWVPWEU",
          "_q1 → GAYXZ4PZ7P6QOX7EBHPIZXNWY4KCOBYWJCA4WKWRKC7XIUS3UJPT6EZ4",
          "GABMKJM6I25XI4K7U6XWMULOUQIQ27BCTMLS6BYYSOWKTBUXVRJSXHYQ → _q8",
          "GCGB2S2KGYARPVIA37HYZXVRM2YZUEXA6S33ZU5BUDC6THSB62LZSTYH → _q8",
          "GCM6QMP3DLRPTAZW2UZPCPX2LF3SXWXKPMP3GKFZBDSF3QZGV2G5QSTK → _q8",
          "_q2 → GCM6QMP3DLRPTAZW2UZPCPX2LF3SXWXKPMP3GKFZBDSF3QZGV2G5QSTK",
          "_q2 → GCGB2S2KGYARPVIA37HYZXVRM2YZUEXA6S33ZU5BUDC6THSB62LZSTYH",
          "_q2 → GABMKJM6I25XI4K7U6XWMULOUQIQ27BCTMLS6BYYSOWKTBUXVRJSXHYQ",
          "GADLA6BJK6VK33EM2IDQM37L5KGVCY5MSHSHVJA4SCNGNUIEOTCR6J5T → _q8",
          "GAZ437J46SCFPZEDLVGDMKZPLFO77XJ4QVAURSJVRZK2T5S7XUFHXI2Z → _q8",
          "_q3 → GADLA6BJK6VK33EM2IDQM37L5KGVCY5MSHSHVJA4SCNGNUIEOTCR6J5T",
          "_q3 → GD6SZQV3WEJUH352NTVLKEV2JM2RH266VPEM7EH5QLLI7ZZAALMLNUVN",
          "_q3 → GAZ437J46SCFPZEDLVGDMKZPLFO77XJ4QVAURSJVRZK2T5S7XUFHXI2Z",
          "GAK6Z5UVGUVSEK6PEOCAYJISTT5EJBB34PN3NOLEQG2SUKXRVV2F6HZY → _q8",
          "GBJQUIXUO4XSNPAUT6ODLZUJRV2NPXYASKUBY4G5MYP3M47PCVI55MNT → _q8",
          "GC5SXLNAM3C4NMGK2PXK4R34B5GNZ47FYQ24ZIBFDFOCU6D4KBN4POAE → _q8",
          "_q4 → GBJQUIXUO4XSNPAUT6ODLZUJRV2NPXYASKUBY4G5MYP3M47PCVI55MNT",
          "_q4 → GAK6Z5UVGUVSEK6PEOCAYJISTT5EJBB34PN3NOLEQG2SUKXRVV2F6HZY",
          "_q4 → GC5SXLNAM3C4NMGK2PXK4R34B5GNZ47FYQ24ZIBFDFOCU6D4KBN4POAE",
          "GARYGQ5F2IJEBCZJCBNPWNWVDOFK7IBOHLJKKSG2TMHDQKEEC6P4PE4V → _q8",
          "GA7DV63PBUUWNUFAF4GAZVXU2OZMYRATDLKTC7VTCG7AU4XUPN5VRX4A → _q8",
          "GCMSM2VFZGRPTZKPH5OABHGH4F3AVS6XTNJXDGCZ3MKCOSUBH3FL6DOB → _q8",
          "_q5 → GARYGQ5F2IJEBCZJCBNPWNWVDOFK7IBOHLJKKSG2TMHDQKEEC6P4PE4V",
          "_q5 → GCMSM2VFZGRPTZKPH5OABHGH4F3AVS6XTNJXDGCZ3MKCOSUBH3FL6DOB",
          "_q5 → GA7DV63PBUUWNUFAF4GAZVXU2OZMYRATDLKTC7VTCG7AU4XUPN5VRX4A",
          "GA5STBMV6QDXFDGD62MEHLLHZTPDI77U3PFOD2SELU5RJDHQWBR5NNK7 → _q8",
          "GA7TEPCBDQKI7JQLQ34ZURRMK44DVYCIGVXQQWNSWAEQR6KB4FMCBT7J → _q8",
          "GCB2VSADESRV2DDTIVTFLBDI562K6KE3KMKILBHUHUWFXCUBHGQDI7VL → _q8",
          "GCFONE23AB7Y6C5YZOMKUKGETPIAJA4QOYLS5VNS4JHBGKRZCPYHDLW7 → _q8",
          "GD5QWEVV4GZZTQP46BRXV5CUMMMLP4JTGFD7FWYJJWRL54CELY6JGQ63 → _q8",
          "_q6 → GCFONE23AB7Y6C5YZOMKUKGETPIAJA4QOYLS5VNS4JHBGKRZCPYHDLW7",
          "_q6 → GA5STBMV6QDXFDGD62MEHLLHZTPDI77U3PFOD2SELU5RJDHQWBR5NNK7",
          "_q6 → GD5QWEVV4GZZTQP46BRXV5CUMMMLP4JTGFD7FWYJJWRL54CELY6JGQ63",
          "_q6 → GCB2VSADESRV2DDTIVTFLBDI562K6KE3KMKILBHUHUWFXCUBHGQDI7VL",
          "_q6 → GA7TEPCBDQKI7JQLQ34ZURRMK44DVYCIGVXQQWNSWAEQR6KB4FMCBT7J",
          "GBLJNN3AVZZPG2FYAYTYQKECNWTQYYUUY2KVFN2OUKZKBULXIXBZ4FCT → _q8",
          "GCIXVKNFPKWVMKJKVK2V4NK7D4TC6W3BUMXSIJ365QUAXWBRPPJXIR2Z → _q8",
          "GCVJ4Z6TI6Z2SOGENSPXDQ2U4RKH3CNQKYUHNSSPYFPNWTLGS6EBH7I2 → _q8",
          "_q7 → GCIXVKNFPKWVMKJKVK2V4NK7D4TC6W3BUMXSIJ365QUAXWBRPPJXIR2Z",
          "_q7 → GBLJNN3AVZZPG2FYAYTYQKECNWTQYYUUY2KVFN2OUKZKBULXIXBZ4FCT",
          "_q7 → GCVJ4Z6TI6Z2SOGENSPXDQ2U4RKH3CNQKYUHNSSPYFPNWTLGS6EBH7I2",
          "_q8 → _q5",
          "_q8 → _q1",
          "_q8 → _q3",
          "_q8 → _q6",
          "_q8 → _q7",
          "_q8 → _q4",
          "_q8 → _q2"
         ],
         "type": "scatter",
         "x": [
          0.7821742772527132,
          0.043975155141220676,
          null,
          0.5871587433245083,
          0.043975155141220676,
          null,
          1,
          0.043975155141220676,
          null,
          0.07110574552665076,
          0.043975155141220676,
          null,
          0.9080179397686088,
          1,
          null,
          0.9080179397686088,
          0.5871587433245083,
          null,
          0.9080179397686088,
          0.07110574552665076,
          null,
          -0.7408165194272865,
          0.043975155141220676,
          null,
          -0.026339451445612772,
          0.043975155141220676,
          null,
          -0.757418521923637,
          0.043975155141220676,
          null,
          -0.84856345749213,
          -0.757418521923637,
          null,
          -0.84856345749213,
          -0.026339451445612772,
          null,
          -0.84856345749213,
          -0.7408165194272865,
          null,
          0.6850560107658399,
          0.043975155141220676,
          null,
          -0.9692317069646635,
          0.043975155141220676,
          null,
          0.007490047642332562,
          0.6850560107658399,
          null,
          0.007490047642332562,
          0.7821742772527132,
          null,
          0.007490047642332562,
          -0.9692317069646635,
          null,
          0.9275026705338251,
          0.043975155141220676,
          null,
          -0.5074049224948487,
          0.043975155141220676,
          null,
          -0.2146504655789056,
          0.043975155141220676,
          null,
          0.2592865794944276,
          -0.5074049224948487,
          null,
          0.2592865794944276,
          0.9275026705338251,
          null,
          0.2592865794944276,
          -0.2146504655789056,
          null,
          0.4954695728001686,
          0.043975155141220676,
          null,
          -0.45602667029422095,
          0.043975155141220676,
          null,
          0.5133532273334891,
          0.043975155141220676,
          null,
          0.282884729343367,
          0.4954695728001686,
          null,
          0.282884729343367,
          0.5133532273334891,
          null,
          0.282884729343367,
          -0.45602667029422095,
          null,
          0.20114184009831876,
          0.043975155141220676,
          null,
          -0.4561716228789896,
          0.043975155141220676,
          null,
          -0.48842624474798685,
          0.043975155141220676,
          null,
          0.8387947541832194,
          0.043975155141220676,
          null,
          -0.7807577752470003,
          0.043975155141220676,
          null,
          -0.14266518493340946,
          0.8387947541832194,
          null,
          -0.14266518493340946,
          0.20114184009831876,
          null,
          -0.14266518493340946,
          -0.7807577752470003,
          null,
          -0.14266518493340946,
          -0.48842624474798685,
          null,
          -0.14266518493340946,
          -0.4561716228789896,
          null,
          0.2367636961206838,
          0.043975155141220676,
          null,
          -0.15591362720902247,
          0.043975155141220676,
          null,
          -0.9134212377929374,
          0.043975155141220676,
          null,
          -0.3823675808987217,
          -0.15591362720902247,
          null,
          -0.3823675808987217,
          0.2367636961206838,
          null,
          -0.3823675808987217,
          -0.9134212377929374,
          null,
          0.043975155141220676,
          0.282884729343367,
          null,
          0.043975155141220676,
          0.9080179397686088,
          null,
          0.043975155141220676,
          0.007490047642332562,
          null,
          0.043975155141220676,
          -0.14266518493340946,
          null,
          0.043975155141220676,
          -0.3823675808987217,
          null,
          0.043975155141220676,
          0.2592865794944276,
          null,
          0.043975155141220676,
          -0.84856345749213,
          null
         ],
         "y": [
          -0.03253252050453605,
          -0.010553173995757758,
          null,
          -0.5383919244284281,
          -0.010553173995757758,
          null,
          0.14728271731429746,
          -0.010553173995757758,
          null,
          -0.7096375615978312,
          -0.010553173995757758,
          null,
          -0.6303467940853157,
          0.14728271731429746,
          null,
          -0.6303467940853157,
          -0.5383919244284281,
          null,
          -0.6303467940853157,
          -0.7096375615978312,
          null,
          0.6495725217361991,
          -0.010553173995757758,
          null,
          0.9949569262426021,
          -0.010553173995757758,
          null,
          -0.6185852776545513,
          -0.010553173995757758,
          null,
          0.3899264582528671,
          -0.6185852776545513,
          null,
          0.3899264582528671,
          0.9949569262426021,
          null,
          0.3899264582528671,
          0.6495725217361991,
          null,
          0.6218908425921109,
          -0.010553173995757758,
          null,
          0.09241005858353128,
          -0.010553173995757758,
          null,
          0.33304034041212993,
          0.6218908425921109,
          null,
          0.33304034041212993,
          -0.03253252050453605,
          null,
          0.33304034041212993,
          0.09241005858353128,
          null,
          -0.2835476791837299,
          -0.010553173995757758,
          null,
          0.4527551572478502,
          -0.010553173995757758,
          null,
          0.7871604746964651,
          -0.010553173995757758,
          null,
          0.4033580139689116,
          0.4527551572478502,
          null,
          0.4033580139689116,
          -0.2835476791837299,
          null,
          0.4033580139689116,
          0.7871604746964651,
          null,
          -0.8355771258475886,
          -0.010553173995757758,
          null,
          -0.5809748562401741,
          -0.010553173995757758,
          null,
          0.8393499075849484,
          -0.010553173995757758,
          null,
          -0.16061568806171947,
          -0.8355771258475886,
          null,
          -0.16061568806171947,
          0.8393499075849484,
          null,
          -0.16061568806171947,
          -0.5809748562401741,
          null,
          -0.9776752918006537,
          -0.010553173995757758,
          null,
          -0.8721901891234478,
          -0.010553173995757758,
          null,
          0.8564885352121075,
          -0.010553173995757758,
          null,
          0.39834793730325735,
          -0.010553173995757758,
          null,
          -0.1170183725871,
          -0.010553173995757758,
          null,
          -0.1266840430462996,
          0.39834793730325735,
          null,
          -0.1266840430462996,
          -0.9776752918006537,
          null,
          -0.1266840430462996,
          -0.1170183725871,
          null,
          -0.1266840430462996,
          0.8564885352121075,
          null,
          -0.1266840430462996,
          -0.8721901891234478,
          null,
          0.8798606315474881,
          -0.010553173995757758,
          null,
          -0.9503847126716604,
          -0.010553173995757758,
          null,
          -0.35457279158290905,
          -0.010553173995757758,
          null,
          -0.047112520283068664,
          -0.9503847126716604,
          null,
          -0.047112520283068664,
          0.8798606315474881,
          null,
          -0.047112520283068664,
          -0.35457279158290905,
          null,
          -0.010553173995757758,
          -0.16061568806171947,
          null,
          -0.010553173995757758,
          -0.6303467940853157,
          null,
          -0.010553173995757758,
          0.33304034041212993,
          null,
          -0.010553173995757758,
          -0.1266840430462996,
          null,
          -0.010553173995757758,
          -0.047112520283068664,
          null,
          -0.010553173995757758,
          0.4033580139689116,
          null,
          -0.010553173995757758,
          0.3899264582528671,
          null
         ]
        },
        {
         "hoverinfo": "text",
         "marker": {
          "color": "blue",
          "size": 10
         },
         "mode": "markers",
         "text": [
          "Whalestack (Germany)",
          "Blockdaemon Validator 1",
          "Blockdaemon Validator 2",
          "Blockdaemon Validator 3",
          "_q1",
          "SDF 3",
          "SDF 1",
          "SDF 2",
          "_q2",
          "Whalestack (Finland)",
          "Whalestack (Hong Kong)",
          "_q3",
          "SatoshiPay Iowa",
          "SatoshiPay Singapore",
          "SatoshiPay Frankfurt",
          "_q4",
          "FT SCV 1",
          "FT SCV 3",
          "FT SCV 2",
          "_q5",
          "LOBSTR 5 (India)",
          "LOBSTR 4 (Asia)",
          "LOBSTR 2 (Europe)",
          "LOBSTR 1 (Europe)",
          "LOBSTR 3 (North America)",
          "_q6",
          "Hercules by OG Technologies",
          "Lyra by BP Ventures",
          "Boötes",
          "_q7",
          "_q8"
         ],
         "type": "scatter",
         "x": [
          0.7821742772527132,
          0.5871587433245083,
          1,
          0.07110574552665076,
          0.9080179397686088,
          -0.7408165194272865,
          -0.026339451445612772,
          -0.757418521923637,
          -0.84856345749213,
          0.6850560107658399,
          -0.9692317069646635,
          0.007490047642332562,
          0.9275026705338251,
          -0.5074049224948487,
          -0.2146504655789056,
          0.2592865794944276,
          0.4954695728001686,
          -0.45602667029422095,
          0.5133532273334891,
          0.282884729343367,
          0.20114184009831876,
          -0.4561716228789896,
          -0.48842624474798685,
          0.8387947541832194,
          -0.7807577752470003,
          -0.14266518493340946,
          0.2367636961206838,
          -0.15591362720902247,
          -0.9134212377929374,
          -0.3823675808987217,
          0.043975155141220676
         ],
         "y": [
          -0.03253252050453605,
          -0.5383919244284281,
          0.14728271731429746,
          -0.7096375615978312,
          -0.6303467940853157,
          0.6495725217361991,
          0.9949569262426021,
          -0.6185852776545513,
          0.3899264582528671,
          0.6218908425921109,
          0.09241005858353128,
          0.33304034041212993,
          -0.2835476791837299,
          0.4527551572478502,
          0.7871604746964651,
          0.4033580139689116,
          -0.8355771258475886,
          -0.5809748562401741,
          0.8393499075849484,
          -0.16061568806171947,
          -0.9776752918006537,
          -0.8721901891234478,
          0.8564885352121075,
          0.39834793730325735,
          -0.1170183725871,
          -0.1266840430462996,
          0.8798606315474881,
          -0.9503847126716604,
          -0.35457279158290905,
          -0.047112520283068664,
          -0.010553173995757758
         ]
        }
       ],
       "layout": {
        "hovermode": "closest",
        "margin": {
         "b": 20,
         "l": 5,
         "r": 5,
         "t": 40
        },
        "plot_bgcolor": "white",
        "showlegend": false,
        "template": {
         "data": {
          "bar": [
           {
            "error_x": {
             "color": "#2a3f5f"
            },
            "error_y": {
             "color": "#2a3f5f"
            },
            "marker": {
             "line": {
              "color": "#E5ECF6",
              "width": 0.5
             },
             "pattern": {
              "fillmode": "overlay",
              "size": 10,
              "solidity": 0.2
             }
            },
            "type": "bar"
           }
          ],
          "barpolar": [
           {
            "marker": {
             "line": {
              "color": "#E5ECF6",
              "width": 0.5
             },
             "pattern": {
              "fillmode": "overlay",
              "size": 10,
              "solidity": 0.2
             }
            },
            "type": "barpolar"
           }
          ],
          "carpet": [
           {
            "aaxis": {
             "endlinecolor": "#2a3f5f",
             "gridcolor": "white",
             "linecolor": "white",
             "minorgridcolor": "white",
             "startlinecolor": "#2a3f5f"
            },
            "baxis": {
             "endlinecolor": "#2a3f5f",
             "gridcolor": "white",
             "linecolor": "white",
             "minorgridcolor": "white",
             "startlinecolor": "#2a3f5f"
            },
            "type": "carpet"
           }
          ],
          "choropleth": [
           {
            "colorbar": {
             "outlinewidth": 0,
             "ticks": ""
            },
            "type": "choropleth"
           }
          ],
          "contour": [
           {
            "colorbar": {
             "outlinewidth": 0,
             "ticks": ""
            },
            "colorscale": [
             [
              0,
              "#0d0887"
             ],
             [
              0.1111111111111111,
              "#46039f"
             ],
             [
              0.2222222222222222,
              "#7201a8"
             ],
             [
              0.3333333333333333,
              "#9c179e"
             ],
             [
              0.4444444444444444,
              "#bd3786"
             ],
             [
              0.5555555555555556,
              "#d8576b"
             ],
             [
              0.6666666666666666,
              "#ed7953"
             ],
             [
              0.7777777777777778,
              "#fb9f3a"
             ],
             [
              0.8888888888888888,
              "#fdca26"
             ],
             [
              1,
              "#f0f921"
             ]
            ],
            "type": "contour"
           }
          ],
          "contourcarpet": [
           {
            "colorbar": {
             "outlinewidth": 0,
             "ticks": ""
            },
            "type": "contourcarpet"
           }
          ],
          "heatmap": [
           {
            "colorbar": {
             "outlinewidth": 0,
             "ticks": ""
            },
            "colorscale": [
             [
              0,
              "#0d0887"
             ],
             [
              0.1111111111111111,
              "#46039f"
             ],
             [
              0.2222222222222222,
              "#7201a8"
             ],
             [
              0.3333333333333333,
              "#9c179e"
             ],
             [
              0.4444444444444444,
              "#bd3786"
             ],
             [
              0.5555555555555556,
              "#d8576b"
             ],
             [
              0.6666666666666666,
              "#ed7953"
             ],
             [
              0.7777777777777778,
              "#fb9f3a"
             ],
             [
              0.8888888888888888,
              "#fdca26"
             ],
             [
              1,
              "#f0f921"
             ]
            ],
            "type": "heatmap"
           }
          ],
          "histogram": [
           {
            "marker": {
             "pattern": {
              "fillmode": "overlay",
              "size": 10,
              "solidity": 0.2
             }
            },
            "type": "histogram"
           }
          ],
          "histogram2d": [
           {
            "colorbar": {
             "outlinewidth": 0,
             "ticks": ""
            },
            "colorscale": [
             [
              0,
              "#0d0887"
             ],
             [
              0.1111111111111111,
              "#46039f"
             ],
             [
              0.2222222222222222,
              "#7201a8"
             ],
             [
              0.3333333333333333,
              "#9c179e"
             ],
             [
              0.4444444444444444,
              "#bd3786"
             ],
             [
              0.5555555555555556,
              "#d8576b"
             ],
             [
              0.6666666666666666,
              "#ed7953"
             ],
             [
              0.7777777777777778,
              "#fb9f3a"
             ],
             [
              0.8888888888888888,
              "#fdca26"
             ],
             [
              1,
              "#f0f921"
             ]
            ],
            "type": "histogram2d"
           }
          ],
          "histogram2dcontour": [
           {
            "colorbar": {
             "outlinewidth": 0,
             "ticks": ""
            },
            "colorscale": [
             [
              0,
              "#0d0887"
             ],
             [
              0.1111111111111111,
              "#46039f"
             ],
             [
              0.2222222222222222,
              "#7201a8"
             ],
             [
              0.3333333333333333,
              "#9c179e"
             ],
             [
              0.4444444444444444,
              "#bd3786"
             ],
             [
              0.5555555555555556,
              "#d8576b"
             ],
             [
              0.6666666666666666,
              "#ed7953"
             ],
             [
              0.7777777777777778,
              "#fb9f3a"
             ],
             [
              0.8888888888888888,
              "#fdca26"
             ],
             [
              1,
              "#f0f921"
             ]
            ],
            "type": "histogram2dcontour"
           }
          ],
          "mesh3d": [
           {
            "colorbar": {
             "outlinewidth": 0,
             "ticks": ""
            },
            "type": "mesh3d"
           }
          ],
          "parcoords": [
           {
            "line": {
             "colorbar": {
              "outlinewidth": 0,
              "ticks": ""
             }
            },
            "type": "parcoords"
           }
          ],
          "pie": [
           {
            "automargin": true,
            "type": "pie"
           }
          ],
          "scatter": [
           {
            "fillpattern": {
             "fillmode": "overlay",
             "size": 10,
             "solidity": 0.2
            },
            "type": "scatter"
           }
          ],
          "scatter3d": [
           {
            "line": {
             "colorbar": {
              "outlinewidth": 0,
              "ticks": ""
             }
            },
            "marker": {
             "colorbar": {
              "outlinewidth": 0,
              "ticks": ""
             }
            },
            "type": "scatter3d"
           }
          ],
          "scattercarpet": [
           {
            "marker": {
             "colorbar": {
              "outlinewidth": 0,
              "ticks": ""
             }
            },
            "type": "scattercarpet"
           }
          ],
          "scattergeo": [
           {
            "marker": {
             "colorbar": {
              "outlinewidth": 0,
              "ticks": ""
             }
            },
            "type": "scattergeo"
           }
          ],
          "scattergl": [
           {
            "marker": {
             "colorbar": {
              "outlinewidth": 0,
              "ticks": ""
             }
            },
            "type": "scattergl"
           }
          ],
          "scattermap": [
           {
            "marker": {
             "colorbar": {
              "outlinewidth": 0,
              "ticks": ""
             }
            },
            "type": "scattermap"
           }
          ],
          "scattermapbox": [
           {
            "marker": {
             "colorbar": {
              "outlinewidth": 0,
              "ticks": ""
             }
            },
            "type": "scattermapbox"
           }
          ],
          "scatterpolar": [
           {
            "marker": {
             "colorbar": {
              "outlinewidth": 0,
              "ticks": ""
             }
            },
            "type": "scatterpolar"
           }
          ],
          "scatterpolargl": [
           {
            "marker": {
             "colorbar": {
              "outlinewidth": 0,
              "ticks": ""
             }
            },
            "type": "scatterpolargl"
           }
          ],
          "scatterternary": [
           {
            "marker": {
             "colorbar": {
              "outlinewidth": 0,
              "ticks": ""
             }
            },
            "type": "scatterternary"
           }
          ],
          "surface": [
           {
            "colorbar": {
             "outlinewidth": 0,
             "ticks": ""
            },
            "colorscale": [
             [
              0,
              "#0d0887"
             ],
             [
              0.1111111111111111,
              "#46039f"
             ],
             [
              0.2222222222222222,
              "#7201a8"
             ],
             [
              0.3333333333333333,
              "#9c179e"
             ],
             [
              0.4444444444444444,
              "#bd3786"
             ],
             [
              0.5555555555555556,
              "#d8576b"
             ],
             [
              0.6666666666666666,
              "#ed7953"
             ],
             [
              0.7777777777777778,
              "#fb9f3a"
             ],
             [
              0.8888888888888888,
              "#fdca26"
             ],
             [
              1,
              "#f0f921"
             ]
            ],
            "type": "surface"
           }
          ],
          "table": [
           {
            "cells": {
             "fill": {
              "color": "#EBF0F8"
             },
             "line": {
              "color": "white"
             }
            },
            "header": {
             "fill": {
              "color": "#C8D4E3"
             },
             "line": {
              "color": "white"
             }
            },
            "type": "table"
           }
          ]
         },
         "layout": {
          "annotationdefaults": {
           "arrowcolor": "#2a3f5f",
           "arrowhead": 0,
           "arrowwidth": 1
          },
          "autotypenumbers": "strict",
          "coloraxis": {
           "colorbar": {
            "outlinewidth": 0,
            "ticks": ""
           }
          },
          "colorscale": {
           "diverging": [
            [
             0,
             "#8e0152"
            ],
            [
             0.1,
             "#c51b7d"
            ],
            [
             0.2,
             "#de77ae"
            ],
            [
             0.3,
             "#f1b6da"
            ],
            [
             0.4,
             "#fde0ef"
            ],
            [
             0.5,
             "#f7f7f7"
            ],
            [
             0.6,
             "#e6f5d0"
            ],
            [
             0.7,
             "#b8e186"
            ],
            [
             0.8,
             "#7fbc41"
            ],
            [
             0.9,
             "#4d9221"
            ],
            [
             1,
             "#276419"
            ]
           ],
           "sequential": [
            [
             0,
             "#0d0887"
            ],
            [
             0.1111111111111111,
             "#46039f"
            ],
            [
             0.2222222222222222,
             "#7201a8"
            ],
            [
             0.3333333333333333,
             "#9c179e"
            ],
            [
             0.4444444444444444,
             "#bd3786"
            ],
            [
             0.5555555555555556,
             "#d8576b"
            ],
            [
             0.6666666666666666,
             "#ed7953"
            ],
            [
             0.7777777777777778,
             "#fb9f3a"
            ],
            [
             0.8888888888888888,
             "#fdca26"
            ],
            [
             1,
             "#f0f921"
            ]
           ],
           "sequentialminus": [
            [
             0,
             "#0d0887"
            ],
            [
             0.1111111111111111,
             "#46039f"
            ],
            [
             0.2222222222222222,
             "#7201a8"
            ],
            [
             0.3333333333333333,
             "#9c179e"
            ],
            [
             0.4444444444444444,
             "#bd3786"
            ],
            [
             0.5555555555555556,
             "#d8576b"
            ],
            [
             0.6666666666666666,
             "#ed7953"
            ],
            [
             0.7777777777777778,
             "#fb9f3a"
            ],
            [
             0.8888888888888888,
             "#fdca26"
            ],
            [
             1,
             "#f0f921"
            ]
           ]
          },
          "colorway": [
           "#636efa",
           "#EF553B",
           "#00cc96",
           "#ab63fa",
           "#FFA15A",
           "#19d3f3",
           "#FF6692",
           "#B6E880",
           "#FF97FF",
           "#FECB52"
          ],
          "font": {
           "color": "#2a3f5f"
          },
          "geo": {
           "bgcolor": "white",
           "lakecolor": "white",
           "landcolor": "#E5ECF6",
           "showlakes": true,
           "showland": true,
           "subunitcolor": "white"
          },
          "hoverlabel": {
           "align": "left"
          },
          "hovermode": "closest",
          "mapbox": {
           "style": "light"
          },
          "paper_bgcolor": "white",
          "plot_bgcolor": "#E5ECF6",
          "polar": {
           "angularaxis": {
            "gridcolor": "white",
            "linecolor": "white",
            "ticks": ""
           },
           "bgcolor": "#E5ECF6",
           "radialaxis": {
            "gridcolor": "white",
            "linecolor": "white",
            "ticks": ""
           }
          },
          "scene": {
           "xaxis": {
            "backgroundcolor": "#E5ECF6",
            "gridcolor": "white",
            "gridwidth": 2,
            "linecolor": "white",
            "showbackground": true,
            "ticks": "",
            "zerolinecolor": "white"
           },
           "yaxis": {
            "backgroundcolor": "#E5ECF6",
            "gridcolor": "white",
            "gridwidth": 2,
            "linecolor": "white",
            "showbackground": true,
            "ticks": "",
            "zerolinecolor": "white"
           },
           "zaxis": {
            "backgroundcolor": "#E5ECF6",
            "gridcolor": "white",
            "gridwidth": 2,
            "linecolor": "white",
            "showbackground": true,
            "ticks": "",
            "zerolinecolor": "white"
           }
          },
          "shapedefaults": {
           "line": {
            "color": "#2a3f5f"
           }
          },
          "ternary": {
           "aaxis": {
            "gridcolor": "white",
            "linecolor": "white",
            "ticks": ""
           },
           "baxis": {
            "gridcolor": "white",
            "linecolor": "white",
            "ticks": ""
           },
           "bgcolor": "#E5ECF6",
           "caxis": {
            "gridcolor": "white",
            "linecolor": "white",
            "ticks": ""
           }
          },
          "title": {
           "x": 0.05
          },
          "xaxis": {
           "automargin": true,
           "gridcolor": "white",
           "linecolor": "white",
           "ticks": "",
           "title": {
            "standoff": 15
           },
           "zerolinecolor": "white",
           "zerolinewidth": 2
          },
          "yaxis": {
           "automargin": true,
           "gridcolor": "white",
           "linecolor": "white",
           "ticks": "",
           "title": {
            "standoff": 15
           },
           "zerolinecolor": "white",
           "zerolinewidth": 2
          }
         }
        },
        "xaxis": {
         "showgrid": false,
         "showticklabels": false,
         "zeroline": false
        },
        "yaxis": {
         "showgrid": false,
         "showticklabels": false,
         "zeroline": false
        }
       }
      }
     },
     "metadata": {},
     "output_type": "display_data"
    }
   ],
   "source": [
    "# try plotly\n",
    "import plotly.graph_objects as go\n",
    "\n",
    "G = fbas.graph  # This is a nx.DiGraph\n",
    "pos = nx.spring_layout(G)  # Node positions\n",
    "\n",
    "# Extract edge positions\n",
    "edge_x = []\n",
    "edge_y = []\n",
    "edge_annotations = []  # To store arrow annotations\n",
    "edge_text = []  # Edge hover labels\n",
    "\n",
    "for edge in G.edges():\n",
    "    u, v = edge  # Start and end node\n",
    "    x0, y0 = pos[u]\n",
    "    x1, y1 = pos[v]\n",
    "    \n",
    "    # Store edge for plotting\n",
    "    edge_x.append(x0)\n",
    "    edge_x.append(x1)\n",
    "    edge_x.append(None)  # None creates line breaks\n",
    "    edge_y.append(y0)\n",
    "    edge_y.append(y1)\n",
    "    edge_y.append(None)\n",
    "\n",
    "    # Edge hover label\n",
    "    edge_text.append(f\"{u} → {v}\")  # Unicode arrow\n",
    "\n",
    "    # Arrow position (slightly before reaching the destination node)\n",
    "    arrow_x = x0 + 0.9 * (x1 - x0)  # Adjust position along the edge\n",
    "    arrow_y = y0 + 0.9 * (y1 - y0)\n",
    "\n",
    "# Edge trace (lines with hover text)\n",
    "edge_trace = go.Scatter(\n",
    "    x=edge_x, y=edge_y,\n",
    "    line=dict(width=1, color='gray'),\n",
    "    hoverinfo='text',\n",
    "    text=edge_text,  # Show edge direction on hover\n",
    "    mode='lines+markers',\n",
    "    marker=dict(symbol='arrow', size=20, angleref='previous')\n",
    ")\n",
    "\n",
    "# Node trace (hover labels)\n",
    "node_x = []\n",
    "node_y = []\n",
    "node_text = []  # Hover labels\n",
    "\n",
    "for node_id, data in G.nodes(data=True):\n",
    "    x, y = pos[node_id]\n",
    "    node_x.append(x)\n",
    "    node_y.append(y)\n",
    "    label = f\"{data['name'] if 'name' in data else node_id}\"\n",
    "    node_text.append(label)  # Label on hover\n",
    "\n",
    "# Node trace (scatter points with hover labels)\n",
    "node_trace = go.Scatter(\n",
    "    x=node_x, y=node_y,\n",
    "    mode='markers',\n",
    "    marker=dict(size=10, color='blue'),\n",
    "    hoverinfo='text',  # Only show labels on hover\n",
    "    text=node_text  # Labels\n",
    ")\n",
    "\n",
    "# Create the figure\n",
    "fig = go.Figure(data=[edge_trace, node_trace])\n",
    "fig.update_layout(\n",
    "    showlegend=False,\n",
    "    hovermode=\"closest\",  # Enables per-node hover\n",
    "    plot_bgcolor='white',\n",
    "    margin=dict(b=20, l=5, r=5, t=40),\n",
    "    xaxis=dict(showgrid=False, zeroline=False, showticklabels=False),\n",
    "    yaxis=dict(showgrid=False, zeroline=False, showticklabels=False),\n",
    "    annotations=edge_annotations  # Add arrows\n",
    ")\n",
    "\n",
    "# Show the interactive graph\n",
    "fig.show()\n"
   ]
  }
 ],
 "metadata": {
  "kernelspec": {
   "display_name": ".venv",
   "language": "python",
   "name": "python3"
  },
  "language_info": {
   "codemirror_mode": {
    "name": "ipython",
    "version": 3
   },
   "file_extension": ".py",
   "mimetype": "text/x-python",
   "name": "python",
   "nbconvert_exporter": "python",
   "pygments_lexer": "ipython3",
   "version": "3.10.12"
  }
 },
 "nbformat": 4,
 "nbformat_minor": 2
}
