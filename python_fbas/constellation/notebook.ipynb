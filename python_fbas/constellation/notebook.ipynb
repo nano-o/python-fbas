{
 "cells": [
  {
   "cell_type": "code",
   "execution_count": 1,
   "id": "bbcee3e6-d4f7-4668-b2c8-34c01be3769c",
   "metadata": {},
   "outputs": [],
   "source": [
    "import sys\n",
    "import os\n",
    "import json\n",
    "import networkx as nx\n",
    "\n",
    "# Since we are in a sub-package, ensure that the top-level package is on the Python path\n",
    "sys.path.append(os.path.abspath(os.path.join('..', '..')))\n",
    "\n",
    "# Now we can import modules from python_fbas\n",
    "from python_fbas.fbas_graph import FBASGraph\n",
    "from python_fbas.fbas_graph_analysis import top_tier as get_top_tier, is_overlay_resilient, num_not_blocked\n",
    "from python_fbas.constellation.constellation import load_survey_graph\n",
    "\n",
    "# %load_ext line_profiler"
   ]
  },
  {
   "cell_type": "markdown",
   "id": "3fadedbe-c2ba-4d83-b645-744c80a8c219",
   "metadata": {},
   "source": [
    "# Evaluating Constellation on a Stellar-network snapshot of January 3rd, 2025\n",
    "\n",
    "We start by examining the Stellar network as it was on January 3rd, 2025.\n",
    "* `data/network-2025-01-03.json` contains the quorum-set configuration of the validators.\n",
    "* `data/survey-2025-01-03.json` is the result of the overlay survey that ran on that day.\n"
   ]
  },
  {
   "cell_type": "markdown",
   "id": "f36ffc23",
   "metadata": {},
   "source": [
    "First we compute the top-tier of the network (the top-tier is defined as the union of all minimal quorums):"
   ]
  },
  {
   "cell_type": "code",
   "execution_count": 2,
   "id": "7a5c3123-3d10-4dc0-8665-e6dae68ff558",
   "metadata": {},
   "outputs": [
    {
     "name": "stdout",
     "output_type": "stream",
     "text": [
      "The top-tier has 23 validators and 7 unique organizations: {'stellar.blockdaemon.com', 'satoshipay.io', 'whalestack.com', 'lobstr.co', 'publicnode.org', 'www.franklintempleton.com', 'www.stellar.org'}\n"
     ]
    }
   ],
   "source": [
    "json_data = json.load(open('data/network-2025-01-03.json'))\n",
    "fbas = FBASGraph.from_json(json_data, from_stellarbeat=True)\n",
    "top_tier = get_top_tier(fbas)\n",
    "top_tier_fbas:FBASGraph = fbas.project(top_tier)\n",
    "top_tier_orgs = [top_tier_fbas.vertice_attrs(v)['homeDomain'] for v in top_tier_fbas.validators]\n",
    "print(f\"The top-tier has {len(top_tier_fbas.validators)} validators and {len(set(top_tier_orgs))} unique organizations: {set(top_tier_orgs)}\")"
   ]
  },
  {
   "cell_type": "markdown",
   "id": "77b09931",
   "metadata": {},
   "source": [
    "Next we check whether the overlay graph obtained by Stellar's network survey is FBA-resilient. This means checking that, for every minimal quorum Q, if we remove the complement of Q from the communication graph, the communication graph remains connected. We can check this with the help of a SAT solver using `fbas_graph_analysis.is_overlay_resilient`. However this check is too expensive for our simulations.\n",
    "\n",
    "Instead we check that, for every node n, for every set S that suffices to satisfy the agreement requirements of n, n has at least one overlay connection to a member of S. If this does not hold, then the overlay is clearly not FBA-resilient. So this (pseudo-)resilience test has false-positives (FBAS that pass the test but that are not resilient). Nevertheless it seems to provide good estimates when we compare it to the SAT-based check."
   ]
  },
  {
   "cell_type": "code",
   "execution_count": 3,
   "id": "6b23ac1d",
   "metadata": {},
   "outputs": [
    {
     "name": "stdout",
     "output_type": "stream",
     "text": [
      "average degree of the top-tier nodes in full overlay: 45.47826086956522\n",
      "average degree of the top-tier overlay: 4.260869565217392\n",
      "Among the top-tier, 23/23 validators do not have their connectivity requirements met\n"
     ]
    }
   ],
   "source": [
    "overlay:nx.Graph = load_survey_graph('data/survey-2025-01-03.json')\n",
    "# restrict the overlay to the top-tier validators:\n",
    "top_tier_overlay:nx.Graph = overlay.subgraph(top_tier)\n",
    "# average degree of the top-tier in the full overlay:\n",
    "degrees = [overlay.degree(n) for n in top_tier]\n",
    "avg_degree = sum(degrees) / len(degrees)\n",
    "print(f\"average degree of the top-tier nodes in full overlay: {avg_degree}\")\n",
    "# compute the average degree of the top-tier overlay:\n",
    "degrees = [top_tier_overlay.degree(n) for n in top_tier_overlay.nodes]\n",
    "avg_degree = sum(degrees) / len(degrees)\n",
    "print(f\"average degree of the top-tier overlay: {avg_degree}\")\n",
    "print(f\"Among the top-tier, {num_not_blocked(top_tier_fbas, top_tier_overlay)}/{len(top_tier_fbas.validators)} validators do not have their connectivity requirements met\")\n"
   ]
  },
  {
   "cell_type": "markdown",
   "id": "68ba1840",
   "metadata": {},
   "source": [
    "We can also check using the SAT-based check that the top-tier overlay is not FBAS-resilient:"
   ]
  },
  {
   "cell_type": "code",
   "execution_count": null,
   "id": "03dca9fd",
   "metadata": {},
   "outputs": [],
   "source": [
    "print(is_overlay_resilient(top_tier_fbas, top_tier_overlay))"
   ]
  },
  {
   "cell_type": "markdown",
   "id": "6c4d9d76",
   "metadata": {},
   "source": [
    "Next we evaluate using a random overlay for the top-tier fbas.\n",
    "We estimate the smallest value of p such that, with high probability, an Erdos-Renyi graph on n nodes with edge probability p is FBAS-resilient. For performance reasons, as described above, we only check that, for every quorum Q, every member of Q has a peer in Q (which does not guarantee connectivity). This means that we obtain an upper bound on p. For this, we sample a random graphs for a range of expected degrees and compute the smallest expected degree for which 99% of the samples pass the test."
   ]
  },
  {
   "cell_type": "code",
   "execution_count": 4,
   "id": "cb7b6ccb",
   "metadata": {},
   "outputs": [
    {
     "name": "stdout",
     "output_type": "stream",
     "text": [
      "For an expected degree of 19, the probability of the assumptions being satisfied is at least 0.99.\n"
     ]
    }
   ],
   "source": [
    "nodes = list(top_tier_fbas.validators)\n",
    "min_d = 16\n",
    "max_d = 20\n",
    "num_samples = 500\n",
    "num_sat = {} # dict holding the results\n",
    "# loop over all value of the degree d from min_d to max_d:\n",
    "for d in range(min_d, max_d+1):\n",
    "    num_sat[d] = 0\n",
    "    for i in range(num_samples):\n",
    "        # Create an Erdos-Renyi graph with expected degree d:\n",
    "        g = nx.erdos_renyi_graph(len(nodes), d / len(nodes))\n",
    "        # rename the nodes to the validator names:\n",
    "        g = nx.relabel_nodes(g, {i: nodes[i] for i in range(len(nodes))})\n",
    "        # we could use the SAT-based check, but it's too expensive:\n",
    "        # if is_overlay_resilient(top_tier_fbas, g):\n",
    "        if num_not_blocked(top_tier_fbas, g) == 0:\n",
    "            num_sat[d] += 1\n",
    "            \n",
    "# Next we find the minimum degree d for which the probability of the assumptions being satisfied is 0.99:\n",
    "while num_sat[min_d] / num_samples < 0.99:\n",
    "    min_d += 1\n",
    "print(f'For an expected degree of {min_d}, the probability of the assumptions being satisfied is at least 0.99.')"
   ]
  },
  {
   "cell_type": "code",
   "execution_count": null,
   "id": "e682141a",
   "metadata": {},
   "outputs": [],
   "source": [
    "# now plot the results\n",
    "import matplotlib.pyplot as plt\n",
    "plt.axvline(x=min_d, color='r')\n",
    "plt.xlabel('Expected degree')\n",
    "plt.ylabel('Probability of assumptions being satisfied')\n",
    "plt.plot(num_sat.keys(), [v/num_samples for v in num_sat.values()])"
   ]
  },
  {
   "cell_type": "markdown",
   "id": "4d7f6ebe",
   "metadata": {},
   "source": [
    "The results above indicate that, to obtain an FBAS-resilient overlay with high probability by sampling an Erdos-Renyi graph, we must set the edge probability to at least 19/23, corresponding to an expected degree of 19.\n",
    "\n",
    "Let us know see what we obtain with Constellation.\n",
    "TODO: one org has 5 validators, which is not supported by the code at the moment."
   ]
  },
  {
   "cell_type": "markdown",
   "id": "6e36966e",
   "metadata": {},
   "source": [
    "# Simulations against the random and greedy strategies\n",
    "\n",
    "TODO: reproduce Fig. 2 of the paper."
   ]
  }
 ],
 "metadata": {
  "kernelspec": {
   "display_name": ".venv",
   "language": "python",
   "name": "python3"
  },
  "language_info": {
   "codemirror_mode": {
    "name": "ipython",
    "version": 3
   },
   "file_extension": ".py",
   "mimetype": "text/x-python",
   "name": "python",
   "nbconvert_exporter": "python",
   "pygments_lexer": "ipython3",
   "version": "3.10.12"
  }
 },
 "nbformat": 4,
 "nbformat_minor": 5
}
