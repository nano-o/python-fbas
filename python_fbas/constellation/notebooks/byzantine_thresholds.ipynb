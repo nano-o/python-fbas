{
 "cells": [
  {
   "cell_type": "code",
   "execution_count": 1,
   "metadata": {},
   "outputs": [
    {
     "name": "stdout",
     "output_type": "stream",
     "text": [
      "2025-02-12 06:50:44,820 - INFO - Logger is set up and ready to use.\n"
     ]
    }
   ],
   "source": [
    "import sys\n",
    "import os\n",
    "import json\n",
    "import time\n",
    "import logging\n",
    "import networkx as nx\n",
    "\n",
    "# Now we can import modules from python_fbas\n",
    "from python_fbas.fbas_graph import FBASGraph\n",
    "from python_fbas.fbas_graph_analysis import is_fba_resilient_approx, find_disjoint_quorums, find_min_quorum\n",
    "from python_fbas.constellation.constellation import *\n",
    "import python_fbas.constellation.config as config\n",
    "\n",
    "# %load_ext line_profiler\n",
    "\n",
    "# Create a logger\n",
    "logger = logging.getLogger(\"JupyterLogger\")\n",
    "\n",
    "# Remove existing handlers to prevent duplicates\n",
    "if logger.hasHandlers():\n",
    "    logger.handlers.clear()\n",
    "\n",
    "debug_level = logging.INFO\n",
    "\n",
    "# Add a StreamHandler to send logs to the notebook output\n",
    "handler = logging.StreamHandler(sys.stdout)\n",
    "handler.setLevel(debug_level)  # Ensure the handler captures DEBUG logs\n",
    "formatter = logging.Formatter('%(asctime)s - %(levelname)s - %(message)s')\n",
    "handler.setFormatter(formatter)\n",
    "\n",
    "logger.addHandler(handler)\n",
    "logger.setLevel(debug_level)\n",
    "\n",
    "logger.info(\"Logger is set up and ready to use.\")"
   ]
  },
  {
   "cell_type": "code",
   "execution_count": null,
   "metadata": {},
   "outputs": [],
   "source": [
    "# Let's first generate a 16-orgs single-universe regular FBAS\n",
    "fbas = random_single_universe_regular_fbas(16, 9, 14)\n",
    "fbas_graph = single_universe_regular_fbas_to_fbas_graph(fbas)\n",
    "assert not find_disjoint_quorums(fbas_graph)\n",
    "\n",
    "# then we pick a minimal quorum (slow...)\n",
    "q = find_min_quorum(fbas_graph)"
   ]
  },
  {
   "cell_type": "code",
   "execution_count": 10,
   "metadata": {},
   "outputs": [
    {
     "name": "stdout",
     "output_type": "stream",
     "text": [
      "We have 20 Byzantine nodes\n",
      "2025-02-12 06:59:45,004 - INFO - Computing constellation for t=1\n"
     ]
    },
    {
     "name": "stderr",
     "output_type": "stream",
     "text": [
      "INFO:JupyterLogger:Computing constellation for t=1\n"
     ]
    },
    {
     "name": "stdout",
     "output_type": "stream",
     "text": [
      "2025-02-12 06:59:45,042 - INFO - Computing constellation for t=2\n"
     ]
    },
    {
     "name": "stderr",
     "output_type": "stream",
     "text": [
      "INFO:JupyterLogger:Computing constellation for t=2\n"
     ]
    },
    {
     "name": "stdout",
     "output_type": "stream",
     "text": [
      "2025-02-12 06:59:45,082 - INFO - Computing constellation for t=3\n"
     ]
    },
    {
     "name": "stderr",
     "output_type": "stream",
     "text": [
      "INFO:JupyterLogger:Computing constellation for t=3\n"
     ]
    },
    {
     "name": "stdout",
     "output_type": "stream",
     "text": [
      "2025-02-12 06:59:45,120 - INFO - Computing constellation for t=4\n"
     ]
    },
    {
     "name": "stderr",
     "output_type": "stream",
     "text": [
      "INFO:JupyterLogger:Computing constellation for t=4\n"
     ]
    },
    {
     "name": "stdout",
     "output_type": "stream",
     "text": [
      "2025-02-12 06:59:45,160 - INFO - Computing constellation for t=5\n"
     ]
    },
    {
     "name": "stderr",
     "output_type": "stream",
     "text": [
      "INFO:JupyterLogger:Computing constellation for t=5\n"
     ]
    },
    {
     "name": "stdout",
     "output_type": "stream",
     "text": [
      "2025-02-12 06:59:45,209 - INFO - Computing constellation for t=6\n"
     ]
    },
    {
     "name": "stderr",
     "output_type": "stream",
     "text": [
      "INFO:JupyterLogger:Computing constellation for t=6\n"
     ]
    },
    {
     "name": "stdout",
     "output_type": "stream",
     "text": [
      "2025-02-12 06:59:45,276 - INFO - Computing constellation for t=7\n"
     ]
    },
    {
     "name": "stderr",
     "output_type": "stream",
     "text": [
      "INFO:JupyterLogger:Computing constellation for t=7\n"
     ]
    },
    {
     "name": "stdout",
     "output_type": "stream",
     "text": [
      "2025-02-12 06:59:45,361 - INFO - Computing constellation for t=8\n"
     ]
    },
    {
     "name": "stderr",
     "output_type": "stream",
     "text": [
      "INFO:JupyterLogger:Computing constellation for t=8\n"
     ]
    },
    {
     "name": "stdout",
     "output_type": "stream",
     "text": [
      "2025-02-12 06:59:45,471 - INFO - Computing constellation for t=9\n"
     ]
    },
    {
     "name": "stderr",
     "output_type": "stream",
     "text": [
      "INFO:JupyterLogger:Computing constellation for t=9\n"
     ]
    },
    {
     "name": "stdout",
     "output_type": "stream",
     "text": [
      "2025-02-12 06:59:45,485 - INFO - Computing constellation for t=10\n"
     ]
    },
    {
     "name": "stderr",
     "output_type": "stream",
     "text": [
      "INFO:JupyterLogger:Computing constellation for t=10\n"
     ]
    },
    {
     "name": "stdout",
     "output_type": "stream",
     "text": [
      "2025-02-12 06:59:45,525 - INFO - Computing constellation for t=11\n"
     ]
    },
    {
     "name": "stderr",
     "output_type": "stream",
     "text": [
      "INFO:JupyterLogger:Computing constellation for t=11\n"
     ]
    },
    {
     "name": "stdout",
     "output_type": "stream",
     "text": [
      "2025-02-12 06:59:45,548 - INFO - Computing constellation for t=12\n"
     ]
    },
    {
     "name": "stderr",
     "output_type": "stream",
     "text": [
      "INFO:JupyterLogger:Computing constellation for t=12\n"
     ]
    },
    {
     "name": "stdout",
     "output_type": "stream",
     "text": [
      "2025-02-12 06:59:45,678 - INFO - Computing constellation for t=13\n"
     ]
    },
    {
     "name": "stderr",
     "output_type": "stream",
     "text": [
      "INFO:JupyterLogger:Computing constellation for t=13\n"
     ]
    },
    {
     "name": "stdout",
     "output_type": "stream",
     "text": [
      "2025-02-12 06:59:45,724 - INFO - Computing constellation for t=14\n"
     ]
    },
    {
     "name": "stderr",
     "output_type": "stream",
     "text": [
      "INFO:JupyterLogger:Computing constellation for t=14\n"
     ]
    },
    {
     "name": "stdout",
     "output_type": "stream",
     "text": [
      "2025-02-12 06:59:45,854 - INFO - Computing constellation for t=15\n"
     ]
    },
    {
     "name": "stderr",
     "output_type": "stream",
     "text": [
      "INFO:JupyterLogger:Computing constellation for t=15\n"
     ]
    },
    {
     "name": "stdout",
     "output_type": "stream",
     "text": [
      "2025-02-12 06:59:45,987 - INFO - Computing constellation for t=16\n"
     ]
    },
    {
     "name": "stderr",
     "output_type": "stream",
     "text": [
      "INFO:JupyterLogger:Computing constellation for t=16\n"
     ]
    },
    {
     "data": {
      "image/png": "[encoded data removed]",
      "text/plain": [
       "<Figure size 640x480 with 1 Axes>"
      ]
     },
     "metadata": {},
     "output_type": "display_data"
    }
   ],
   "source": [
    "# now we are going to simulate the impact on constellation of byzantine nodes changing their thresholds\n",
    "# we consider a maximal set of byzantine nodes, i.e. all nodes in the complement of the quorum\n",
    "from typing import Collection\n",
    "import statistics\n",
    "\n",
    "\n",
    "byz_nodes = fbas_graph.validators - set(q)\n",
    "print(f\"We have {len(byz_nodes)} Byzantine nodes\")\n",
    "\n",
    "def set_thresholds(fg:FBASGraph, s:Collection[str], t) -> FBASGraph:\n",
    "    \"\"\"\n",
    "    Set the threshold of each validator in s to t\n",
    "    \"\"\"\n",
    "    assert set(s) <= fg.validators\n",
    "    for v in s:\n",
    "        qset = fg.qsets[fg.qset_vertex_of(v)].to_dict()\n",
    "        qset['threshold'] = t\n",
    "        fg.update_validator(v, qset)\n",
    "    return fg\n",
    "\n",
    " # for each possible threshold t, we set the threshold of all byzantine nodes to t, compute the constellation overlay, and note its average degree and median degree (along with stddev), and its max degree.\n",
    "data = {}\n",
    "for i in range(1, len(fbas.keys()) + 1):\n",
    "    new_fbas_graph = set_thresholds(fbas_graph, byz_nodes, i)\n",
    "    new_fbas = fbas_graph_to_single_universe_regular(new_fbas_graph)[0]\n",
    "    logger.info(f\"Computing constellation for t={i}\")\n",
    "    overlay = constellation_overlay(new_fbas)\n",
    "    degrees = [d for n, d in overlay.degree()]\n",
    "    data[i] = {\n",
    "        \"avg\": sum(degrees) / len(degrees),\n",
    "        \"median\": statistics.median(degrees),\n",
    "        \"stddev\": statistics.stdev(degrees),\n",
    "        \"max\": max(degrees)\n",
    "    }\n",
    "\n",
    "# now we plot the results\n",
    "import matplotlib.pyplot as plt\n",
    "import numpy as np\n",
    "fig, ax = plt.subplots()\n",
    "ax.plot(data.keys(), [data[i][\"avg\"] for i in data.keys()], label=\"avg\")\n",
    "ax.plot(data.keys(), [data[i][\"median\"] for i in data.keys()], label=\"median\")\n",
    "ax.plot(data.keys(), [data[i][\"max\"] for i in data.keys()], label=\"max\")\n",
    "ax.set_xlabel(\"Threshold of Byzantine nodes\")\n",
    "ax.set_ylabel(\"Degree\")\n",
    "ax.set_title(\"Impact of Byzantine nodes' threshold on constellation degree\")\n",
    "ax.legend()\n",
    "plt.show()\n"
   ]
  }
 ],
 "metadata": {
  "kernelspec": {
   "display_name": ".venv",
   "language": "python",
   "name": "python3"
  },
  "language_info": {
   "codemirror_mode": {
    "name": "ipython",
    "version": 3
   },
   "file_extension": ".py",
   "mimetype": "text/x-python",
   "name": "python",
   "nbconvert_exporter": "python",
   "pygments_lexer": "ipython3",
   "version": "3.10.12"
  }
 },
 "nbformat": 4,
 "nbformat_minor": 2
}
