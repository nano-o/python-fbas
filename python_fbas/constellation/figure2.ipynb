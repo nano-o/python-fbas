{
 "cells": [
  {
   "cell_type": "markdown",
   "metadata": {},
   "source": [
    "# In this notebook we reproduce Figure 2 of the paper."
   ]
  },
  {
   "cell_type": "code",
   "execution_count": null,
   "metadata": {},
   "outputs": [],
   "source": [
    "import sys\n",
    "import os\n",
    "import json\n",
    "import networkx as nx\n",
    "\n",
    "# Since we are in a sub-package, ensure that the top-level package is on the Python path\n",
    "sys.path.append(os.path.abspath(os.path.join('..', '..')))\n",
    "\n",
    "# Now we can import modules from python_fbas\n",
    "from python_fbas.fbas_graph import FBASGraph\n",
    "from python_fbas.fbas_graph_analysis import is_fba_resilient_approx\n",
    "from python_fbas.constellation.constellation import *\n",
    "import python_fbas.constellation.config as config\n",
    "\n",
    "# %load_ext line_profiler"
   ]
  },
  {
   "cell_type": "code",
   "execution_count": null,
   "metadata": {},
   "outputs": [
    {
     "name": "stdout",
     "output_type": "stream",
     "text": [
      "[18.375, 18.375, 18.375, 18.375, 18.375, 19.0, 18.375, 18.375, 18.375, 18.375, 17.125, 18.375, 17.125, 18.375, 17.125, 17.125, 17.125, 18.375, 18.375, 18.375, 18.375, 18.375, 18.375, 18.375, 17.125, 18.375, 18.375, 18.375, 17.125, 18.375, 18.375, 18.375, 18.375, 18.375, 18.375, 18.375, 18.375, 18.375, 18.375, 19.0, 18.375, 17.0, 17.125, 17.125, 17.125, 17.125, 18.375, 18.375, 18.375, 18.375]\n",
      "[22.916666666666668, 26.083333333333332, 23.25, 25.541666666666668, 28.875, 30.708333333333332, 24.625, 26.375, 23.083333333333332, 23.916666666666668, 22.666666666666668, 23.333333333333332, 21.583333333333332, 25.291666666666668, 24.458333333333332, 22.791666666666668, 23.666666666666668, 22.916666666666668, 28.125, 25.666666666666668, 23.916666666666668, 24.583333333333332, 25.625, 21.0, 21.708333333333332, 23.625, 22.208333333333332, 22.125, 22.958333333333332, 26.458333333333332, 24.0, 23.625, 23.208333333333332, 26.333333333333332, 25.5, 22.875, 22.375, 28.75, 22.166666666666668, 26.333333333333332, 25.875, 24.666666666666668, 22.25, 23.708333333333332, 23.083333333333332, 21.5, 22.583333333333332, 22.416666666666668, 25.708333333333332, 26.25]\n",
      "[27.2, 24.88, 25.76, 23.76, 23.76, 22.96, 24.48, 24.32, 25.76, 24.48, 24.48, 25.76, 26.32, 28.16, 25.76, 25.76, 27.2, 25.76, 26.96, 27.2, 23.76, 25.76, 25.76, 25.76, 23.76, 25.6, 25.6, 25.76, 25.76, 24.48, 22.96, 24.48, 25.76, 24.48, 24.48, 25.76, 25.6, 27.2, 26.32, 28.16, 25.76, 25.76, 25.76, 27.2, 26.32, 24.48, 23.76, 24.48, 23.76, 25.76]\n",
      "[36.85333333333333, 35.946666666666665, 35.12, 39.12, 33.86666666666667, 33.413333333333334, 37.333333333333336, 36.48, 35.013333333333335, 37.78666666666667, 33.46666666666667, 35.306666666666665, 36.42666666666667, 41.093333333333334, 36.16, 33.44, 41.84, 32.693333333333335, 38.82666666666667, 37.013333333333335, 38.24, 34.24, 34.08, 32.72, 35.68, 37.92, 35.92, 40.906666666666666, 36.906666666666666, 38.50666666666667, 32.56, 33.2, 36.64, 38.48, 35.413333333333334, 36.053333333333335, 39.6, 36.72, 39.76, 36.93333333333333, 36.50666666666667, 35.733333333333334, 34.61333333333334, 40.24, 35.28, 36.10666666666667, 32.64, 35.013333333333335, 37.973333333333336, 36.72]\n",
      "[36.16, 40.72, 41.68, 44.6, 43.0, 44.6, 44.6, 44.28, 44.96, 46.48, 53.0, 43.88, 45.04, 53.0, 52.4, 45.04, 53.0, 41.6, 43.76, 41.68, 53.0, 53.0, 45.6, 53.0, 44.44, 53.0, 42.56, 45.64, 53.0, 44.6, 40.8, 53.0, 36.4, 42.96, 42.96, 53.0, 53.0, 41.16, 53.0, 46.24, 53.0, 53.0, 53.0, 46.48, 46.24, 44.08, 53.0, 34.28, 44.32, 39.68]\n",
      "[61.6, 64.90666666666667, 61.266666666666666, 59.61333333333334, 66.28, 62.906666666666666, 65.18666666666667, 59.04, 58.333333333333336, 61.46666666666667, 68.76, 59.053333333333335, 63.57333333333333, 69.42666666666666, 64.49333333333334, 63.586666666666666, 70.26666666666667, 66.72, 64.17333333333333, 57.68, 70.54666666666667, 75.13333333333334, 62.946666666666665, 75.69333333333333, 66.0, 69.24, 59.653333333333336, 63.68, 75.64, 61.81333333333333, 66.96, 73.57333333333334, 58.36, 67.89333333333333, 68.36, 57.48, 72.74666666666667, 64.92, 72.48, 69.54666666666667, 67.61333333333333, 72.72, 70.18666666666667, 68.72, 65.94666666666667, 64.36, 71.30666666666667, 59.77333333333333, 60.96, 60.053333333333335]\n",
      "[62.21333333333333, 63.2, 78.05333333333333, 63.2, 78.05333333333333, 78.05333333333333, 61.2, 59.333333333333336, 61.2, 78.05333333333333, 56.77333333333333, 78.05333333333333, 78.05333333333333, 56.21333333333333, 63.92, 78.05333333333333, 60.373333333333335, 57.653333333333336, 78.05333333333333, 78.05333333333333, 68.16, 62.21333333333333, 57.653333333333336, 61.92, 57.25333333333333, 78.05333333333333, 78.05333333333333, 58.53333333333333, 78.05333333333333, 63.2, 58.29333333333334, 78.05333333333333, 78.05333333333333, 60.24, 78.05333333333333, 78.05333333333333, 78.05333333333333, 60.56, 59.52, 61.92, 78.05333333333333, 63.2, 58.85333333333333, 78.05333333333333, 62.373333333333335, 61.333333333333336, 56.0, 78.05333333333333, 57.653333333333336, 78.05333333333333]\n",
      "[85.2088888888889, 86.88888888888889, 99.18222222222222, 82.73777777777778, 88.47111111111111, 101.54666666666667, 87.15555555555555, 94.88888888888889, 91.48444444444445, 106.12444444444445, 83.67111111111112, 90.33777777777777, 97.62666666666667, 93.1288888888889, 83.76, 90.83555555555556, 92.83555555555556, 83.75111111111111, 94.24888888888889, 100.83555555555556, 85.83111111111111, 80.34666666666666, 83.31555555555556, 91.30666666666667, 83.44888888888889, 86.70222222222222, 97.21777777777778, 85.8488888888889, 109.47555555555556, 85.30666666666667, 85.60888888888888, 92.28444444444445, 96.51555555555555, 89.37777777777778, 118.10666666666667, 103.11111111111111, 82.37333333333333, 89.10222222222222, 83.83111111111111, 84.08, 85.63555555555556, 84.65777777777778, 86.0, 104.45333333333333, 89.28, 86.09777777777778, 83.70666666666666, 106.4088888888889, 95.61777777777777, 89.83111111111111]\n",
      "[72.74, 86.08, 81.62, 80.44, 76.58, 79.42, 72.74, 76.38, 81.48, 74.28, 72.74, 75.98, 78.62, 103.0, 103.0, 84.02, 72.74, 80.44, 72.74, 103.0, 73.44, 103.0, 103.0, 79.54, 72.94, 94.78, 81.84, 83.66, 103.0, 103.0, 80.98, 103.0, 103.0, 76.2, 80.2, 103.0, 73.66, 75.16, 103.0, 72.74, 103.0, 72.74, 103.0, 103.0, 93.14, 79.54, 72.74, 73.44, 88.74, 77.04]\n",
      "[113.67333333333333, 117.4, 118.04666666666667, 110.56666666666666, 106.38666666666667, 109.85333333333334, 113.23333333333333, 110.44, 104.41333333333333, 119.45333333333333, 115.86666666666666, 117.50666666666666, 114.98, 124.1, 141.85333333333332, 125.28, 107.77333333333333, 108.22666666666667, 117.19333333333333, 111.57333333333334, 112.46666666666667, 125.25333333333333, 130.01333333333332, 114.28, 109.2, 108.57333333333334, 122.49333333333334, 115.56, 126.46666666666667, 113.15333333333334, 108.78666666666666, 122.34, 135.66666666666666, 112.76, 114.47333333333333, 127.44, 112.29333333333334, 109.62, 127.68666666666667, 110.93333333333334, 108.44666666666667, 123.99333333333334, 127.92666666666666, 135.08666666666667, 118.0, 118.98, 120.9, 112.10666666666667, 118.61333333333333, 123.86]\n",
      "[106.0, 153.0, 106.0, 153.0, 153.0, 153.0, 153.0, 153.0, 108.6, 153.0, 153.0, 114.14666666666666, 106.10666666666667, 106.0, 153.0, 115.2, 153.0, 153.0, 153.0, 153.0, 153.0, 153.0, 153.0, 153.0, 153.0, 153.0, 153.0, 153.0, 108.18666666666667, 106.26666666666667, 153.0, 153.0, 153.0, 114.38666666666667, 153.0, 153.0, 112.26666666666667, 108.6, 153.0, 109.10666666666667, 153.0, 110.76, 114.62666666666667, 153.0, 153.0, 108.28, 153.0, 108.12, 153.0, 153.0]\n"
     ]
    },
    {
     "ename": "KeyboardInterrupt",
     "evalue": "",
     "output_type": "error",
     "traceback": [
      "\u001b[0;31m---------------------------------------------------------------------------\u001b[0m",
      "\u001b[0;31mKeyboardInterrupt\u001b[0m                         Traceback (most recent call last)",
      "Cell \u001b[0;32mIn[11], line 60\u001b[0m\n\u001b[1;32m     58\u001b[0m     \u001b[38;5;66;03m# relabel with the validator names:\u001b[39;00m\n\u001b[1;32m     59\u001b[0m     overlay \u001b[38;5;241m=\u001b[39m nx\u001b[38;5;241m.\u001b[39mrelabel_nodes(overlay, {i: v \u001b[38;5;28;01mfor\u001b[39;00m i, v \u001b[38;5;129;01min\u001b[39;00m \u001b[38;5;28menumerate\u001b[39m(validators)})\n\u001b[0;32m---> 60\u001b[0m     \u001b[38;5;28;01mif\u001b[39;00m \u001b[43mnum_not_blocked\u001b[49m\u001b[43m(\u001b[49m\u001b[43mfbas_graph\u001b[49m\u001b[43m,\u001b[49m\u001b[43m \u001b[49m\u001b[43moverlay\u001b[49m\u001b[43m)\u001b[49m \u001b[38;5;241m==\u001b[39m \u001b[38;5;241m0\u001b[39m \u001b[38;5;129;01mand\u001b[39;00m nx\u001b[38;5;241m.\u001b[39mdiameter(overlay) \u001b[38;5;241m==\u001b[39m \u001b[38;5;241m2\u001b[39m:\n\u001b[1;32m     61\u001b[0m         \u001b[38;5;28;01mbreak\u001b[39;00m\n\u001b[1;32m     62\u001b[0m \u001b[38;5;28;01mwith\u001b[39;00m \u001b[38;5;28mopen\u001b[39m(f, \u001b[38;5;124m'\u001b[39m\u001b[38;5;124mw\u001b[39m\u001b[38;5;124m'\u001b[39m) \u001b[38;5;28;01mas\u001b[39;00m f:\n",
      "File \u001b[0;32m~/Documents/python-fbas/python_fbas/fbas_graph_analysis.py:491\u001b[0m, in \u001b[0;36mnum_not_blocked\u001b[0;34m(fbas, overlay)\u001b[0m\n\u001b[1;32m    489\u001b[0m \u001b[38;5;28;01mfor\u001b[39;00m v \u001b[38;5;129;01min\u001b[39;00m fbas\u001b[38;5;241m.\u001b[39mvalidators:\n\u001b[1;32m    490\u001b[0m     peers \u001b[38;5;241m=\u001b[39m \u001b[38;5;28mlist\u001b[39m(overlay\u001b[38;5;241m.\u001b[39mneighbors(v)) \u001b[38;5;28;01mif\u001b[39;00m v \u001b[38;5;129;01min\u001b[39;00m overlay \u001b[38;5;28;01melse\u001b[39;00m []\n\u001b[0;32m--> 491\u001b[0m     \u001b[38;5;28;01mif\u001b[39;00m \u001b[38;5;129;01mnot\u001b[39;00m v \u001b[38;5;129;01min\u001b[39;00m \u001b[43mfbas\u001b[49m\u001b[38;5;241;43m.\u001b[39;49m\u001b[43mclosure\u001b[49m\u001b[43m(\u001b[49m\u001b[43mpeers\u001b[49m\u001b[43m)\u001b[49m:\n\u001b[1;32m    492\u001b[0m         n \u001b[38;5;241m+\u001b[39m\u001b[38;5;241m=\u001b[39m \u001b[38;5;241m1\u001b[39m\n\u001b[1;32m    493\u001b[0m \u001b[38;5;28;01mreturn\u001b[39;00m n\n",
      "File \u001b[0;32m~/Documents/python-fbas/python_fbas/fbas_graph.py:306\u001b[0m, in \u001b[0;36mFBASGraph.closure\u001b[0;34m(self, vs)\u001b[0m\n\u001b[1;32m    304\u001b[0m closure \u001b[38;5;241m=\u001b[39m \u001b[38;5;28mset\u001b[39m(vs)\n\u001b[1;32m    305\u001b[0m \u001b[38;5;28;01mwhile\u001b[39;00m \u001b[38;5;28;01mTrue\u001b[39;00m:\n\u001b[0;32m--> 306\u001b[0m     new \u001b[38;5;241m=\u001b[39m {n \u001b[38;5;28;01mfor\u001b[39;00m n \u001b[38;5;129;01min\u001b[39;00m \u001b[38;5;28mself\u001b[39m\u001b[38;5;241m.\u001b[39mvertices() \u001b[38;5;241m-\u001b[39m closure \u001b[38;5;28;01mif\u001b[39;00m \u001b[38;5;28mself\u001b[39m\u001b[38;5;241m.\u001b[39mblocks(closure, n)}\n\u001b[1;32m    307\u001b[0m     \u001b[38;5;28;01mif\u001b[39;00m \u001b[38;5;129;01mnot\u001b[39;00m new:\n\u001b[1;32m    308\u001b[0m         \u001b[38;5;28;01mreturn\u001b[39;00m \u001b[38;5;28mfrozenset\u001b[39m([v \u001b[38;5;28;01mfor\u001b[39;00m v \u001b[38;5;129;01min\u001b[39;00m closure \u001b[38;5;28;01mif\u001b[39;00m v \u001b[38;5;129;01min\u001b[39;00m \u001b[38;5;28mself\u001b[39m\u001b[38;5;241m.\u001b[39mvalidators])\n",
      "File \u001b[0;32m~/Documents/python-fbas/python_fbas/fbas_graph.py:306\u001b[0m, in \u001b[0;36m<setcomp>\u001b[0;34m(.0)\u001b[0m\n\u001b[1;32m    304\u001b[0m closure \u001b[38;5;241m=\u001b[39m \u001b[38;5;28mset\u001b[39m(vs)\n\u001b[1;32m    305\u001b[0m \u001b[38;5;28;01mwhile\u001b[39;00m \u001b[38;5;28;01mTrue\u001b[39;00m:\n\u001b[0;32m--> 306\u001b[0m     new \u001b[38;5;241m=\u001b[39m {n \u001b[38;5;28;01mfor\u001b[39;00m n \u001b[38;5;129;01min\u001b[39;00m \u001b[38;5;28mself\u001b[39m\u001b[38;5;241m.\u001b[39mvertices() \u001b[38;5;241m-\u001b[39m closure \u001b[38;5;28;01mif\u001b[39;00m \u001b[38;5;28;43mself\u001b[39;49m\u001b[38;5;241;43m.\u001b[39;49m\u001b[43mblocks\u001b[49m\u001b[43m(\u001b[49m\u001b[43mclosure\u001b[49m\u001b[43m,\u001b[49m\u001b[43m \u001b[49m\u001b[43mn\u001b[49m\u001b[43m)\u001b[49m}\n\u001b[1;32m    307\u001b[0m     \u001b[38;5;28;01mif\u001b[39;00m \u001b[38;5;129;01mnot\u001b[39;00m new:\n\u001b[1;32m    308\u001b[0m         \u001b[38;5;28;01mreturn\u001b[39;00m \u001b[38;5;28mfrozenset\u001b[39m([v \u001b[38;5;28;01mfor\u001b[39;00m v \u001b[38;5;129;01min\u001b[39;00m closure \u001b[38;5;28;01mif\u001b[39;00m v \u001b[38;5;129;01min\u001b[39;00m \u001b[38;5;28mself\u001b[39m\u001b[38;5;241m.\u001b[39mvalidators])\n",
      "File \u001b[0;32m~/Documents/python-fbas/python_fbas/fbas_graph.py:295\u001b[0m, in \u001b[0;36mFBASGraph.blocks\u001b[0;34m(self, s, n)\u001b[0m\n\u001b[1;32m    291\u001b[0m \u001b[38;5;28;01mdef\u001b[39;00m \u001b[38;5;21mblocks\u001b[39m(\u001b[38;5;28mself\u001b[39m, s : Collection, n : Any) \u001b[38;5;241m-\u001b[39m\u001b[38;5;241m>\u001b[39m \u001b[38;5;28mbool\u001b[39m:\n\u001b[1;32m    292\u001b[0m \u001b[38;5;250m    \u001b[39m\u001b[38;5;124;03m\"\"\"\u001b[39;00m\n\u001b[1;32m    293\u001b[0m \u001b[38;5;124;03m    Returns True if and only if s blocks n. Note that we are working at the graph level. This is not the same as v-blocking.\u001b[39;00m\n\u001b[1;32m    294\u001b[0m \u001b[38;5;124;03m    \"\"\"\u001b[39;00m\n\u001b[0;32m--> 295\u001b[0m     \u001b[38;5;28;01mif\u001b[39;00m \u001b[38;5;28;43mself\u001b[39;49m\u001b[38;5;241;43m.\u001b[39;49m\u001b[43mthreshold\u001b[49m\u001b[43m(\u001b[49m\u001b[43mn\u001b[49m\u001b[43m)\u001b[49m \u001b[38;5;241m<\u001b[39m\u001b[38;5;241m=\u001b[39m \u001b[38;5;241m0\u001b[39m:\n\u001b[1;32m    296\u001b[0m         \u001b[38;5;28;01mreturn\u001b[39;00m \u001b[38;5;28;01mFalse\u001b[39;00m\n\u001b[1;32m    297\u001b[0m     \u001b[38;5;28;01mreturn\u001b[39;00m \u001b[38;5;28mself\u001b[39m\u001b[38;5;241m.\u001b[39mthreshold(n) \u001b[38;5;241m+\u001b[39m \u001b[38;5;28msum\u001b[39m(\u001b[38;5;241m1\u001b[39m \u001b[38;5;28;01mfor\u001b[39;00m c \u001b[38;5;129;01min\u001b[39;00m \u001b[38;5;28mself\u001b[39m\u001b[38;5;241m.\u001b[39mgraph\u001b[38;5;241m.\u001b[39msuccessors(n) \u001b[38;5;28;01mif\u001b[39;00m c \u001b[38;5;129;01min\u001b[39;00m s) \u001b[38;5;241m>\u001b[39m \u001b[38;5;28mself\u001b[39m\u001b[38;5;241m.\u001b[39mgraph\u001b[38;5;241m.\u001b[39mout_degree(n)\n",
      "File \u001b[0;32m~/Documents/python-fbas/python_fbas/fbas_graph.py:183\u001b[0m, in \u001b[0;36mFBASGraph.threshold\u001b[0;34m(self, n)\u001b[0m\n\u001b[1;32m    179\u001b[0m \u001b[38;5;28;01mdef\u001b[39;00m \u001b[38;5;21mthreshold\u001b[39m(\u001b[38;5;28mself\u001b[39m, n: Any) \u001b[38;5;241m-\u001b[39m\u001b[38;5;241m>\u001b[39m \u001b[38;5;28mint\u001b[39m:\n\u001b[1;32m    180\u001b[0m \u001b[38;5;250m    \u001b[39m\u001b[38;5;124;03m\"\"\"\u001b[39;00m\n\u001b[1;32m    181\u001b[0m \u001b[38;5;124;03m    Returns the threshold of the given vertex.\u001b[39;00m\n\u001b[1;32m    182\u001b[0m \u001b[38;5;124;03m    \"\"\"\u001b[39;00m\n\u001b[0;32m--> 183\u001b[0m     \u001b[38;5;28;01mif\u001b[39;00m \u001b[38;5;124m'\u001b[39m\u001b[38;5;124mthreshold\u001b[39m\u001b[38;5;124m'\u001b[39m \u001b[38;5;129;01min\u001b[39;00m \u001b[38;5;28;43mself\u001b[39;49m\u001b[38;5;241;43m.\u001b[39;49m\u001b[43mvertice_attrs\u001b[49m\u001b[43m(\u001b[49m\u001b[43mn\u001b[49m\u001b[43m)\u001b[49m:\n\u001b[1;32m    184\u001b[0m         \u001b[38;5;28;01mreturn\u001b[39;00m \u001b[38;5;28mself\u001b[39m\u001b[38;5;241m.\u001b[39mvertice_attrs(n)[\u001b[38;5;124m'\u001b[39m\u001b[38;5;124mthreshold\u001b[39m\u001b[38;5;124m'\u001b[39m]\n\u001b[1;32m    185\u001b[0m     \u001b[38;5;28;01melif\u001b[39;00m \u001b[38;5;28mself\u001b[39m\u001b[38;5;241m.\u001b[39mgraph\u001b[38;5;241m.\u001b[39mout_degree(n) \u001b[38;5;241m==\u001b[39m \u001b[38;5;241m1\u001b[39m:\n",
      "File \u001b[0;32m~/Documents/python-fbas/python_fbas/fbas_graph.py:70\u001b[0m, in \u001b[0;36mFBASGraph.vertice_attrs\u001b[0;34m(self, n)\u001b[0m\n\u001b[1;32m     67\u001b[0m \u001b[38;5;28;01mdef\u001b[39;00m \u001b[38;5;21mvertices\u001b[39m(\u001b[38;5;28mself\u001b[39m, data\u001b[38;5;241m=\u001b[39m\u001b[38;5;28;01mFalse\u001b[39;00m) \u001b[38;5;241m-\u001b[39m\u001b[38;5;241m>\u001b[39m NodeView:\n\u001b[1;32m     68\u001b[0m     \u001b[38;5;28;01mreturn\u001b[39;00m \u001b[38;5;28mself\u001b[39m\u001b[38;5;241m.\u001b[39mgraph\u001b[38;5;241m.\u001b[39mnodes(data\u001b[38;5;241m=\u001b[39mdata)\n\u001b[0;32m---> 70\u001b[0m \u001b[38;5;28;01mdef\u001b[39;00m \u001b[38;5;21mvertice_attrs\u001b[39m(\u001b[38;5;28mself\u001b[39m, n: \u001b[38;5;28mstr\u001b[39m) \u001b[38;5;241m-\u001b[39m\u001b[38;5;241m>\u001b[39m \u001b[38;5;28mdict\u001b[39m:\n\u001b[1;32m     71\u001b[0m     \u001b[38;5;28;01mreturn\u001b[39;00m \u001b[38;5;28mself\u001b[39m\u001b[38;5;241m.\u001b[39mgraph\u001b[38;5;241m.\u001b[39mnodes[n]\n\u001b[1;32m     73\u001b[0m \u001b[38;5;28;01mdef\u001b[39;00m \u001b[38;5;21mcheck_integrity\u001b[39m(\u001b[38;5;28mself\u001b[39m):\n",
      "\u001b[0;31mKeyboardInterrupt\u001b[0m: "
     ]
    }
   ],
   "source": [
    "\n",
    "NUM_SAMPLES=50\n",
    "for NUM_ORGS in [16, 25, 50, 75, 100, 150, 200]:\n",
    "    # we'll cache results in 'data/tmp/':\n",
    "    dir = f\"data/tmp/{NUM_ORGS}\"\n",
    "    os.makedirs(dir, exist_ok=True)\n",
    "\n",
    "    config.max_num_clusters = 4 if NUM_ORGS <= 50 else 3\n",
    "    config.min_cluster_size = NUM_ORGS//(config.max_num_clusters+2) if NUM_ORGS <= 100 else NUM_ORGS//(config.max_num_clusters+1)\n",
    "\n",
    "    # First, we create NUM_SAMPLES random single-universe FBA systems with 16 validators each.\n",
    "    fbases = []\n",
    "    for i in range(NUM_SAMPLES):\n",
    "        f = f'{dir}/fbas_{i}.json'\n",
    "        if os.path.exists(f):\n",
    "            with open(f, 'r') as f:\n",
    "                fbases.append(json.load(f))\n",
    "            continue\n",
    "        else:\n",
    "            # random thresholds between 1/2 and 5/6 of the number of validators with 5 different thresholds\n",
    "            fbas = random_single_universe_regular_fbas(NUM_ORGS, int(NUM_ORGS/2), int(5*NUM_ORGS/6), 5)\n",
    "            fbases.append(fbas)\n",
    "            with open(f, 'w') as f:\n",
    "                json.dump(fbas, f)\n",
    "\n",
    "    # For each FBAS, compute the constellation overlay:\n",
    "    constellation_overlays = []\n",
    "    for i, fbas in enumerate(fbases):\n",
    "        f = f'{dir}/overlay_{i}.json'\n",
    "        if os.path.exists(f):\n",
    "            with open(f, 'r') as f:\n",
    "                constellation_overlays.append(nx.node_link_graph(json.load(f)))\n",
    "            continue\n",
    "        else:\n",
    "            overlay = constellation_overlay(fbas)\n",
    "            constellation_overlays.append(overlay)\n",
    "            # We save the overlay to a file for examination\n",
    "            with open(f, 'w') as f:\n",
    "                json.dump(nx.node_link_data(overlay), f)\n",
    "    # print the average degree of the constellation overlays:\n",
    "    constellation_avg_degrees = [sum(dict(overlay.degree()).values())/len(overlay) for overlay in constellation_overlays]\n",
    "    print(constellation_avg_degrees)\n",
    "\n",
    "    # We generate a random Erdos-Renyi graph with edge probability k/N for k from 1 to N until we find a graph that has diameter 2 and that is FBA-resilient.\n",
    "    erdos_renyi = []\n",
    "    for i, fbas in enumerate(fbases):\n",
    "        fbas_graph:FBASGraph = single_universe_regular_fbas_to_fbas_graph(fbas)\n",
    "        vertices = fbas_graph.vertices()\n",
    "        validators = fbas_graph.validators\n",
    "        overlay = {}\n",
    "        f = f'{dir}/erdos_renyi_{i}.json'\n",
    "        if os.path.exists(f):\n",
    "            with open(f, 'r') as f:\n",
    "                overlay = nx.node_link_graph(json.load(f))\n",
    "            erdos_renyi.append(overlay)\n",
    "        else:\n",
    "            for d in range(10, len(validators)):\n",
    "                overlay = nx.erdos_renyi_graph(len(validators), d/len(validators))\n",
    "                # relabel with the validator names:\n",
    "                overlay = nx.relabel_nodes(overlay, {i: v for i, v in enumerate(validators)})\n",
    "                if is_fba_resilient_approx(fbas_graph, overlay) and nx.diameter(overlay) == 2:\n",
    "                    break\n",
    "            with open(f, 'w') as f:\n",
    "                json.dump(nx.node_link_data(overlay), f)\n",
    "            erdos_renyi.append(overlay)\n",
    "    # print the average degree of the erdos-renyi graphs:\n",
    "    erdos_avg_degrees = [sum(dict(overlay.degree()).values())/len(overlay) for overlay in erdos_renyi]\n",
    "    print(erdos_avg_degrees)"
   ]
  },
  {
   "cell_type": "code",
   "execution_count": null,
   "metadata": {},
   "outputs": [
    {
     "name": "stdout",
     "output_type": "stream",
     "text": [
      "138.23306666666664 426.87782570666707 153.0\n",
      "117.50386666666664 67.23832727111109 115.86666666666666\n"
     ]
    }
   ],
   "source": [
    "# TODO: now we have multiple series...\n",
    "# print avg and variance of the degrees of the constellation overlays:\n",
    "avg_degree = sum(constellation_avg_degrees)/len(constellation_avg_degrees)\n",
    "variance = sum([(d - avg_degree)**2 for d in constellation_avg_degrees])/len(constellation_avg_degrees)\n",
    "median = sorted(constellation_avg_degrees)[len(constellation_avg_degrees)//2]\n",
    "print(avg_degree, variance, median)\n",
    "# print avg, variance, and median of the degrees of the Erdos-Renyi graphs:\n",
    "avg_degree = sum(erdos_avg_degrees)/len(erdos_avg_degrees)\n",
    "variance = sum([(d - avg_degree)**2 for d in erdos_avg_degrees])/len(erdos_avg_degrees)\n",
    "median = sorted(erdos_avg_degrees)[len(erdos_avg_degrees)//2]\n",
    "print(avg_degree, variance, median)"
   ]
  }
 ],
 "metadata": {
  "kernelspec": {
   "display_name": ".venv",
   "language": "python",
   "name": "python3"
  },
  "language_info": {
   "codemirror_mode": {
    "name": "ipython",
    "version": 3
   },
   "file_extension": ".py",
   "mimetype": "text/x-python",
   "name": "python",
   "nbconvert_exporter": "python",
   "pygments_lexer": "ipython3",
   "version": "3.10.12"
  }
 },
 "nbformat": 4,
 "nbformat_minor": 2
}
